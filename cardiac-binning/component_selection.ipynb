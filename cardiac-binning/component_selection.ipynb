{
 "cells": [
  {
   "cell_type": "markdown",
   "metadata": {},
   "source": [
    "# Component Selection for Cardiac vs. Breathing Separation\n",
    "This notebook performs kernel PCA using the chosen sigma value (from the previous notebook)\n",
    "and displays the time series, FFT, and PSD for each component.\n",
    "You can also display cine reconstructions for individual components.\n",
    "Based on these outputs, decide which component indices are cardiac (i.e., do not contain significant respiratory motion).\n",
    "Record the list of selected components for use in the final pipeline."
   ]
  },
  {
   "cell_type": "markdown",
   "metadata": {},
   "source": [
    "### Loading packages and data"
   ]
  },
  {
   "cell_type": "code",
   "execution_count": null,
   "metadata": {},
   "outputs": [],
   "source": [
    "import yaml\n",
    "import numpy as np\n",
    "import matplotlib.pyplot as plt\n",
    "from IPython.display import display\n",
    "import utils.data_ingestion as di\n",
    "import utils.pca as pca\n",
    "import utils.gif as gif\n",
    "import utils.reconstruction as recon\n",
    "\n",
    "def load_config(config_file=\"config.yaml\"):\n",
    "    with open(config_file, \"r\") as f:\n",
    "        return yaml.safe_load(f)\n",
    "\n",
    "config = load_config()\n",
    "\n",
    "# Set file paths and parameters\n",
    "twix_file = config[\"data\"][\"twix_file\"]\n",
    "dicom_folder = config[\"data\"][\"dicom_folder\"]\n",
    "scans = di.read_twix_file(twix_file, include_scans=[-1], parse_pmu=False)\n",
    "kspace = di.extract_image_data(scans)\n",
    "n_phase_encodes_per_frame = kspace.shape[0] // config[\"data\"][\"n_frames\"]\n",
    "extended_phase_lines = config[\"data\"][\"extended_pe_lines\"]\n",
    "row_offset = config[\"data\"][\"offset\"]\n",
    "\n",
    "decomp_method = config[\"processing\"][\"decomposition_method\"].lower()\n",
    "n_components = config[\"processing\"].get(\"n_components\", None)\n",
    "\n",
    "# Get frame rate from DICOM files.\n",
    "framerate, _ = di.get_dicom_framerate(dicom_folder)"
   ]
  },
  {
   "cell_type": "markdown",
   "metadata": {},
   "source": [
    "### Performing kernel PCA and displaying components"
   ]
  },
  {
   "cell_type": "code",
   "execution_count": null,
   "metadata": {},
   "outputs": [],
   "source": [
    "if decomp_method == \"kernel_pca\":\n",
    "    sigma = config[\"processing\"][\"sigma\"]\n",
    "    model, X_trans, frame_shape, orig_feature_dim = pca.perform_kernel_pca(\n",
    "        kspace, n_phase_encodes_per_frame, kernel=\"rbf\", sigma=sigma, n_components=n_components\n",
    "    )\n",
    "elif decomp_method == \"ica\":\n",
    "    model, X_trans, frame_shape, orig_feature_dim = pca.perform_ica(\n",
    "        kspace, n_phase_encodes_per_frame, n_components=n_components\n",
    "    )\n",
    "elif decomp_method == \"pca\":\n",
    "    model = pca.perform_pca(kspace, n_phase_encodes_per_frame)\n",
    "    frame_shape = model[-1]\n",
    "    X_trans = None\n",
    "    orig_feature_dim = model[3].shape[0]\n",
    "else:\n",
    "    raise ValueError(f\"Unknown decomposition method: {decomp_method}\")\n",
    "\n",
    "# Plot components: if transformed data exists, use that; otherwise use PCA plotting.\n",
    "if X_trans is not None:\n",
    "    pca.plot_components_time_series_and_fft(X_trans, sampling_rate=framerate, n_components=10)\n",
    "else:\n",
    "    pca.plot_pca_time_series_and_fft(model[0], model[1], sampling_rate=framerate, n_components=10)\n",
    "\n",
    "# Reconstruct and display cine movies for each component.\n",
    "for comp in range(10):\n",
    "    recon_component = pca.reconstruct_kspace_from_components(\n",
    "        decomp_method, model, X_trans, comp, frame_shape, orig_feature_dim=orig_feature_dim\n",
    "    )\n",
    "    recon_cine = recon.direct_ifft_reconstruction(recon_component, extended_phase_lines, row_offset, True)\n",
    "    print(f\"Displaying reconstruction using component {comp}:\")\n",
    "    display(gif.display_images_as_gif(recon_cine, interval=100, notebook=True))\n",
    "    \n",
    "# Decide which components represent cardiac motion and record those indices for the final pipeline."
   ]
  },
  {
   "cell_type": "code",
   "execution_count": null,
   "metadata": {},
   "outputs": [],
   "source": []
  }
 ],
 "metadata": {
  "kernelspec": {
   "display_name": "mri",
   "language": "python",
   "name": "python3"
  },
  "language_info": {
   "codemirror_mode": {
    "name": "ipython",
    "version": 3
   },
   "file_extension": ".py",
   "mimetype": "text/x-python",
   "name": "python",
   "nbconvert_exporter": "python",
   "pygments_lexer": "ipython3",
   "version": "3.10.14"
  }
 },
 "nbformat": 4,
 "nbformat_minor": 2
}
