{
 "cells": [
  {
   "cell_type": "markdown",
   "metadata": {},
   "source": [
    "# Component Selection for Cardiac vs. Breathing Separation\n",
    "This notebook performs kernel PCA using the chosen sigma value (from the previous notebook)\n",
    "and displays the time series, FFT, and PSD for each component.\n",
    "You can also display cine reconstructions for individual components.\n",
    "Based on these outputs, decide which component indices are cardiac (i.e., do not contain significant respiratory motion).\n",
    "Record the list of selected components for use in the final pipeline."
   ]
  },
  {
   "cell_type": "markdown",
   "metadata": {},
   "source": [
    "### Loading packages and data"
   ]
  },
  {
   "cell_type": "code",
   "execution_count": null,
   "metadata": {},
   "outputs": [],
   "source": [
    "import yaml\n",
    "import numpy as np\n",
    "import matplotlib.pyplot as plt\n",
    "from IPython.display import display\n",
    "import utils.pca as pca\n",
    "import utils.gif as gif\n",
    "import utils.data_ingestion as di\n",
    "import utils.reconstruction as recon\n",
    "\n",
    "def load_config(config_file=\"config.yaml\"):\n",
    "    with open(config_file, \"r\") as f:\n",
    "        config = yaml.safe_load(f)\n",
    "    return config\n",
    "\n",
    "config = load_config()\n",
    "\n",
    "# Set the file paths (or load from a temporary config file if you wish)\n",
    "twix_file = config[\"data\"][\"twix_file\"]\n",
    "dicom_folder = config[\"data\"][\"dicom_folder\"]\n",
    "scans = di.read_twix_file(twix_file, include_scans=[-1], parse_pmu=False)\n",
    "kspace = di.extract_image_data(scans)\n",
    "n_phase_encodes_per_frame = kspace.shape[0] // config[\"data\"][\"n_frames\"]\n",
    "extended_pe_lines = config[\"data\"][\"extended_pe_lines\"]\n",
    "offset = config[\"data\"][\"offset\"]"
   ]
  },
  {
   "cell_type": "markdown",
   "metadata": {},
   "source": [
    "### Performing kernel PCA and displaying components"
   ]
  },
  {
   "cell_type": "code",
   "execution_count": null,
   "metadata": {},
   "outputs": [],
   "source": [
    "# Use the best sigma from the previous notebook\n",
    "sigma = config[\"processing\"][\"sigma\"]\n",
    "\n",
    "# Get frame rate from the DICOM files\n",
    "framerate, frametime = di.get_dicom_framerate(dicom_folder)\n",
    "\n",
    "# Perform kernel PCA using the chosen sigma\n",
    "kpca_model, X_kpca, frame_shape, orig_feature_dim = pca.perform_kernel_pca(\n",
    "    kspace, n_phase_encodes_per_frame, kernel=\"rbf\", sigma=sigma\n",
    ")\n",
    "\n",
    "# Plot kernel PCA components (time series, FFT, PSD)\n",
    "pca.plot_kernel_pc_time_series_and_fft(X_kpca, sampling_rate=framerate, n_components=10)\n",
    "\n",
    "# Reconstruct and display cine movies for each component.\n",
    "for comp in range(10):\n",
    "    recon_component = recon.reconstruct_kspace_with_selected_components_kernel_kspace(\n",
    "        kpca_model, X_kpca, comp, frame_shape, orig_feature_dim\n",
    "    )\n",
    "    recon_cine = recon.direct_ifft_reconstruction(recon_component, extended_pe_lines, offset, True)\n",
    "    print(f\"Displaying reconstruction using component {comp}:\")\n",
    "    display(gif.display_images_as_gif(recon_cine, interval=100, notebook=True))\n",
    "    \n",
    "# Based on the outputs, decide which components represent cardiac motion.\n",
    "# (E.g., selected_components = [2, 3, 4, 5, 6, 7, 8, 9])"
   ]
  }
 ],
 "metadata": {
  "kernelspec": {
   "display_name": "mri",
   "language": "python",
   "name": "python3"
  },
  "language_info": {
   "codemirror_mode": {
    "name": "ipython",
    "version": 3
   },
   "file_extension": ".py",
   "mimetype": "text/x-python",
   "name": "python",
   "nbconvert_exporter": "python",
   "pygments_lexer": "ipython3",
   "version": "3.10.14"
  }
 },
 "nbformat": 4,
 "nbformat_minor": 2
}
