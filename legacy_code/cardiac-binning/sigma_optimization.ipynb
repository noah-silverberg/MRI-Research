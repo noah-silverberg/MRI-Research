{
 "cells": [
  {
   "cell_type": "markdown",
   "metadata": {},
   "source": [
    "# Sigma Optimization for Kernel PCA\n",
    "This notebook tests a range of sigma values for kernel PCA.\n",
    "The reconstruction error is computed by inverting the transform and comparing to the original data.\n",
    "Use the plot and printed outputs to choose the sigma that minimizes the error.\n",
    "Record that sigma in your configuration file."
   ]
  },
  {
   "cell_type": "markdown",
   "metadata": {},
   "source": [
    "### Loading packages and data, and defining sigma optimization function"
   ]
  },
  {
   "cell_type": "code",
   "execution_count": null,
   "metadata": {},
   "outputs": [],
   "source": [
    "import yaml\n",
    "import numpy as np\n",
    "import matplotlib.pyplot as plt\n",
    "from sklearn.decomposition import KernelPCA\n",
    "import utils.pca as pca\n",
    "import utils.data_ingestion as di\n",
    "\n",
    "def load_config(config_file=\"config.yaml\"):\n",
    "    with open(config_file, \"r\") as f:\n",
    "        config = yaml.safe_load(f)\n",
    "    return config\n",
    "\n",
    "config = load_config()\n",
    "twix_file = config[\"data\"][\"twix_file\"]\n",
    "\n",
    "# Read TWIX file and extract k-space data\n",
    "scans = di.read_twix_file(twix_file, include_scans=[-1], parse_pmu=False)\n",
    "kspace = di.extract_image_data(scans)\n",
    "n_phase_encodes_per_frame = kspace.shape[0] // config[\"data\"][\"n_frames\"]"
   ]
  },
  {
   "cell_type": "code",
   "execution_count": null,
   "metadata": {},
   "outputs": [],
   "source": [
    "def optimize_sigma_kpca(kspace, n_phase_encodes_per_frame, sigma_candidates, n_components=None, kernel=\"rbf\"):\n",
    "    \"\"\"\n",
    "    Optimize the sigma parameter for KernelPCA by minimizing the reconstruction error.\n",
    "    The k-space data is first converted to a real representation (concatenating real and imaginary parts).\n",
    "    \n",
    "    Parameters:\n",
    "      kspace (np.ndarray): Complex k-space data (n_phase x coils x freq_encodes).\n",
    "      n_phase_encodes_per_frame (int): Number of phase encodes per frame.\n",
    "      sigma_candidates (list): Candidate sigma values.\n",
    "      n_components (int or None): Number of kernel PCA components.\n",
    "      kernel (str): Kernel type.\n",
    "      \n",
    "    Returns:\n",
    "      best_sigma (float): Sigma with lowest relative reconstruction error.\n",
    "      best_error (float): The corresponding error.\n",
    "      best_kpca (KernelPCA): The fitted model.\n",
    "      best_X_kpca (np.ndarray): Transformed data using best sigma.\n",
    "      orig_feature_dim (int): Original feature dimension.\n",
    "    \"\"\"\n",
    "    n_phase, n_coils, n_freq = kspace.shape\n",
    "    n_frames = n_phase // n_phase_encodes_per_frame\n",
    "    X = kspace.reshape(n_frames, -1)\n",
    "    orig_feature_dim = X.shape[1]\n",
    "    X_real = np.hstack((np.real(X), np.imag(X)))\n",
    "    \n",
    "    best_sigma = None\n",
    "    best_error = np.inf\n",
    "    best_kpca = None\n",
    "    best_X_kpca = None\n",
    "    errors = []\n",
    "    \n",
    "    for sigma in sigma_candidates:\n",
    "        gamma = 1.0 / (2 * sigma**2)\n",
    "        kpca = KernelPCA(n_components=n_components, kernel=kernel, gamma=gamma, fit_inverse_transform=True)\n",
    "        X_kpca = kpca.fit_transform(X_real)\n",
    "        X_recon_real = kpca.inverse_transform(X_kpca)\n",
    "        error = np.linalg.norm(X_real - X_recon_real) / np.linalg.norm(X_real)\n",
    "        errors.append(error)\n",
    "        print(f\"Sigma: {sigma:.4f}, Reconstruction Error: {error:.4f}\")\n",
    "        if error < best_error:\n",
    "            best_error = error\n",
    "            best_sigma = sigma\n",
    "            best_kpca = kpca\n",
    "            best_X_kpca = X_kpca\n",
    "    \n",
    "    return best_sigma, best_error, best_kpca, best_X_kpca, orig_feature_dim, errors"
   ]
  },
  {
   "cell_type": "markdown",
   "metadata": {},
   "source": [
    "### Optimize sigma"
   ]
  },
  {
   "cell_type": "code",
   "execution_count": null,
   "metadata": {},
   "outputs": [],
   "source": [
    "# Define candidate sigma values (you can adjust the range)\n",
    "sigma_candidates = np.logspace(-1.2, -0.5, 20)\n",
    "\n",
    "# Run optimization\n",
    "best_sigma, best_error, best_kpca, best_X_kpca, orig_feature_dim, errors = optimize_sigma_kpca(\n",
    "    kspace, n_phase_encodes_per_frame, sigma_candidates\n",
    ")\n",
    "\n",
    "print(f\"Best Sigma: {best_sigma:.4f} with error {best_error:.4f}\")"
   ]
  },
  {
   "cell_type": "code",
   "execution_count": null,
   "metadata": {},
   "outputs": [],
   "source": [
    "# Plot the reconstruction error vs sigma\n",
    "plt.figure(figsize=(8,5))\n",
    "plt.semilogx(sigma_candidates, errors, marker='o')\n",
    "plt.xlabel(\"Sigma\")\n",
    "plt.ylabel(\"Relative Reconstruction Error\")\n",
    "plt.title(\"Sigma Optimization for Kernel PCA\")\n",
    "plt.grid(True)\n",
    "plt.show()"
   ]
  }
 ],
 "metadata": {
  "kernelspec": {
   "display_name": "mri",
   "language": "python",
   "name": "python3"
  },
  "language_info": {
   "codemirror_mode": {
    "name": "ipython",
    "version": 3
   },
   "file_extension": ".py",
   "mimetype": "text/x-python",
   "name": "python",
   "nbconvert_exporter": "python",
   "pygments_lexer": "ipython3",
   "version": "3.10.14"
  }
 },
 "nbformat": 4,
 "nbformat_minor": 2
}
